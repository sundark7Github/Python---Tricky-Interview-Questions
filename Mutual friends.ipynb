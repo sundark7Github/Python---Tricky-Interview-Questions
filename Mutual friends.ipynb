{
 "cells": [
  {
   "cell_type": "code",
   "execution_count": 5,
   "metadata": {},
   "outputs": [],
   "source": [
    "import pandas as pd\n",
    "import numpy as np\n",
    "users=[\n",
    "        {\"id\":0,\"name\": 'Ram'},\n",
    "        {\"id\":1,\"name\": 'Sundar'},\n",
    "        {\"id\":2,\"name\": 'Vinoth'},\n",
    "        {\"id\":3,\"name\": 'Anand'},\n",
    "        {\"id\":4,\"name\": 'Magesh'},\n",
    "        {\"id\":5,\"name\": 'Taha'},\n",
    "        {\"id\":6,\"name\": 'Aneesh'}\n",
    "        ] # List of employees in organisation\n",
    "friendship = [(0,1),(0,2),(0,3),(0,4),(0,5),(0,6),\n",
    "              (1,2),(1,3),(1,4),(1,5),\n",
    "              (2,3),(2,4),(2,5),\n",
    "              (3,4),(5,6)] #Friendship vector between them using thier Ids"
   ]
  },
  {
   "cell_type": "code",
   "execution_count": 6,
   "metadata": {},
   "outputs": [
    {
     "name": "stdout",
     "output_type": "stream",
     "text": [
      "[{'id': 0, 'name': 'Ram'}, {'id': 1, 'name': 'Sundar'}, {'id': 2, 'name': 'Vinoth'}, {'id': 3, 'name': 'Anand'}, {'id': 4, 'name': 'Magesh'}, {'id': 5, 'name': 'Taha'}, {'id': 6, 'name': 'Aneesh'}]\n",
      "[(0, 1), (0, 2), (0, 3), (0, 4), (0, 5), (0, 6), (1, 2), (1, 3), (1, 4), (1, 5), (2, 3), (2, 4), (2, 5), (3, 4), (5, 6)]\n"
     ]
    }
   ],
   "source": [
    "# The expectation is to predict the mutual relation ship between given employee and list of other employees using above data\n",
    "\n",
    "print(users)\n",
    "print(friendship)\n",
    "df = pd.DataFrame(users)\n",
    "df[\"Friends\"]=''"
   ]
  },
  {
   "cell_type": "code",
   "execution_count": 7,
   "metadata": {},
   "outputs": [
    {
     "data": {
      "text/html": [
       "<div>\n",
       "<style scoped>\n",
       "    .dataframe tbody tr th:only-of-type {\n",
       "        vertical-align: middle;\n",
       "    }\n",
       "\n",
       "    .dataframe tbody tr th {\n",
       "        vertical-align: top;\n",
       "    }\n",
       "\n",
       "    .dataframe thead th {\n",
       "        text-align: right;\n",
       "    }\n",
       "</style>\n",
       "<table border=\"1\" class=\"dataframe\">\n",
       "  <thead>\n",
       "    <tr style=\"text-align: right;\">\n",
       "      <th></th>\n",
       "      <th>id</th>\n",
       "      <th>name</th>\n",
       "      <th>Friends</th>\n",
       "    </tr>\n",
       "  </thead>\n",
       "  <tbody>\n",
       "    <tr>\n",
       "      <th>0</th>\n",
       "      <td>0</td>\n",
       "      <td>Ram</td>\n",
       "      <td></td>\n",
       "    </tr>\n",
       "    <tr>\n",
       "      <th>1</th>\n",
       "      <td>1</td>\n",
       "      <td>Sundar</td>\n",
       "      <td></td>\n",
       "    </tr>\n",
       "    <tr>\n",
       "      <th>2</th>\n",
       "      <td>2</td>\n",
       "      <td>Vinoth</td>\n",
       "      <td></td>\n",
       "    </tr>\n",
       "    <tr>\n",
       "      <th>3</th>\n",
       "      <td>3</td>\n",
       "      <td>Anand</td>\n",
       "      <td></td>\n",
       "    </tr>\n",
       "    <tr>\n",
       "      <th>4</th>\n",
       "      <td>4</td>\n",
       "      <td>Magesh</td>\n",
       "      <td></td>\n",
       "    </tr>\n",
       "    <tr>\n",
       "      <th>5</th>\n",
       "      <td>5</td>\n",
       "      <td>Taha</td>\n",
       "      <td></td>\n",
       "    </tr>\n",
       "    <tr>\n",
       "      <th>6</th>\n",
       "      <td>6</td>\n",
       "      <td>Aneesh</td>\n",
       "      <td></td>\n",
       "    </tr>\n",
       "  </tbody>\n",
       "</table>\n",
       "</div>"
      ],
      "text/plain": [
       "   id    name Friends\n",
       "0   0     Ram        \n",
       "1   1  Sundar        \n",
       "2   2  Vinoth        \n",
       "3   3   Anand        \n",
       "4   4  Magesh        \n",
       "5   5    Taha        \n",
       "6   6  Aneesh        "
      ]
     },
     "execution_count": 7,
     "metadata": {},
     "output_type": "execute_result"
    }
   ],
   "source": [
    "df\n"
   ]
  },
  {
   "cell_type": "code",
   "execution_count": 8,
   "metadata": {},
   "outputs": [
    {
     "data": {
      "text/html": [
       "<div>\n",
       "<style scoped>\n",
       "    .dataframe tbody tr th:only-of-type {\n",
       "        vertical-align: middle;\n",
       "    }\n",
       "\n",
       "    .dataframe tbody tr th {\n",
       "        vertical-align: top;\n",
       "    }\n",
       "\n",
       "    .dataframe thead th {\n",
       "        text-align: right;\n",
       "    }\n",
       "</style>\n",
       "<table border=\"1\" class=\"dataframe\">\n",
       "  <thead>\n",
       "    <tr style=\"text-align: right;\">\n",
       "      <th></th>\n",
       "      <th>id</th>\n",
       "      <th>name</th>\n",
       "      <th>Friends</th>\n",
       "    </tr>\n",
       "  </thead>\n",
       "  <tbody>\n",
       "    <tr>\n",
       "      <th>0</th>\n",
       "      <td>0</td>\n",
       "      <td>Ram</td>\n",
       "      <td>Sundar,Vinoth,Anand,Magesh,Taha,Aneesh</td>\n",
       "    </tr>\n",
       "    <tr>\n",
       "      <th>1</th>\n",
       "      <td>1</td>\n",
       "      <td>Sundar</td>\n",
       "      <td>Ram,Vinoth,Anand,Magesh,Taha</td>\n",
       "    </tr>\n",
       "    <tr>\n",
       "      <th>2</th>\n",
       "      <td>2</td>\n",
       "      <td>Vinoth</td>\n",
       "      <td>Ram,Sundar,Anand,Magesh,Taha</td>\n",
       "    </tr>\n",
       "    <tr>\n",
       "      <th>3</th>\n",
       "      <td>3</td>\n",
       "      <td>Anand</td>\n",
       "      <td>Ram,Sundar,Vinoth,Magesh</td>\n",
       "    </tr>\n",
       "    <tr>\n",
       "      <th>4</th>\n",
       "      <td>4</td>\n",
       "      <td>Magesh</td>\n",
       "      <td>Ram,Sundar,Vinoth,Anand</td>\n",
       "    </tr>\n",
       "  </tbody>\n",
       "</table>\n",
       "</div>"
      ],
      "text/plain": [
       "   id    name                                 Friends\n",
       "0   0     Ram  Sundar,Vinoth,Anand,Magesh,Taha,Aneesh\n",
       "1   1  Sundar            Ram,Vinoth,Anand,Magesh,Taha\n",
       "2   2  Vinoth            Ram,Sundar,Anand,Magesh,Taha\n",
       "3   3   Anand                Ram,Sundar,Vinoth,Magesh\n",
       "4   4  Magesh                 Ram,Sundar,Vinoth,Anand"
      ]
     },
     "execution_count": 8,
     "metadata": {},
     "output_type": "execute_result"
    }
   ],
   "source": [
    "# Loop running to scan each frienship vector and storing them in a new column of above data frame \n",
    "for i, j in friendship: \n",
    "    #users[i][\"friends\"].append(users[j]['name']) # add i as a friend of j\n",
    "    #users[j][\"friends\"].append(users[i]['name']) # add j as a friend of i \n",
    "    if (df[df['id']==i]['Friends'].values) == '':\n",
    "         \n",
    "         df.iloc[df[df['id']==i].index[0],2] = df[df['id']==j]['name'].values\n",
    "    else:\n",
    "         df.iloc[df[df['id']==i].index[0],2]= df.iloc[i,2]+','+df[df['id']==j]['name'].values\n",
    "    if (df[df['id']==j]['Friends'].values) == '':\n",
    "         \n",
    "         df.iloc[j,2] = df[df['id']==i]['name'].values\n",
    "    else:\n",
    "         df.iloc[j,2]= df.iloc[j,2]+','+df[df['id']==i]['name'].values\n",
    "df.head()"
   ]
  },
  {
   "cell_type": "code",
   "execution_count": 9,
   "metadata": {},
   "outputs": [],
   "source": [
    "#Function which predicts the relationship between an employe and list of other employees\n",
    "def mutual(user, Friends):\n",
    " FrndList = []\n",
    " for other_user in Friends:\n",
    "       if other_user in list(df.iloc[df[df['name']==user].index[0],2].split(\",\")):\n",
    "        print(\"%s and %s are already Friends\"%(user,other_user))\n",
    "       else:\n",
    "        for i in list(df.iloc[df[df['name']==user].index[0],2].split(\",\")):\n",
    "        \n",
    "            if other_user in list(df.iloc[df[df['name']==i].index[0],2].split(\",\")):\n",
    "            \n",
    "                FrndList.append(i)\n",
    "        if len(FrndList)==0:\n",
    "            print(\"No Mutual Friends between them\")\n",
    "        else:\n",
    "            stri = \",\".join(FrndList)\n",
    "            print(\"%s may know %s throgh one of his friends %s\" %(user,other_user,stri))\n"
   ]
  },
  {
   "cell_type": "code",
   "execution_count": 10,
   "metadata": {},
   "outputs": [
    {
     "name": "stdout",
     "output_type": "stream",
     "text": [
      "Sundar and Anand are already Friends\n",
      "Sundar may know Aneesh throgh one of his friends Ram,Taha\n"
     ]
    }
   ],
   "source": [
    "#sample output\n",
    "mutual('Sundar',['Anand','Aneesh'])"
   ]
  },
  {
   "cell_type": "code",
   "execution_count": null,
   "metadata": {},
   "outputs": [],
   "source": []
  }
 ],
 "metadata": {
  "kernelspec": {
   "display_name": "Python 2",
   "language": "python",
   "name": "python2"
  },
  "language_info": {
   "codemirror_mode": {
    "name": "ipython",
    "version": 2
   },
   "file_extension": ".py",
   "mimetype": "text/x-python",
   "name": "python",
   "nbconvert_exporter": "python",
   "pygments_lexer": "ipython2",
   "version": "2.7.15"
  }
 },
 "nbformat": 4,
 "nbformat_minor": 2
}
